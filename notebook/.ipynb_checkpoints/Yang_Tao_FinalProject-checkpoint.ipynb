{
 "cells": [
  {
   "cell_type": "markdown",
   "id": "8939f722",
   "metadata": {},
   "source": [
    "<center><h1>DSCI-552 Final Project<h1></center>"
   ]
  },
  {
   "cell_type": "markdown",
   "id": "85de1253",
   "metadata": {},
   "source": [
    "# Name:Tao Yang  Github Username: utopiatao  USCID:6536418689"
   ]
  },
  {
   "cell_type": "code",
   "execution_count": 1,
   "id": "e0c40896",
   "metadata": {},
   "outputs": [],
   "source": [
    "import tensorflow as tf\n",
    "import matplotlib.pyplot as plt\n",
    "import pandas as pd\n",
    "import splitfolders\n",
    "import random\n",
    "import shutil\n",
    "import cv2\n",
    "import os\n",
    "import numpy as np\n",
    "import argparse\n",
    "import torch\n",
    "import torch.nn as nn\n",
    "import torchvision\n",
    "import torch.nn.functional as F\n",
    "from torch.autograd import Variable\n",
    "from tensorflow.keras.applications import EfficientNetB0\n",
    "from keras.callbacks import ModelCheckpoint, EarlyStopping\n",
    "from tensorflow.keras.preprocessing.image import ImageDataGenerator\n",
    "from tensorflow.keras.preprocessing import image\n",
    "from tensorflow.keras.optimizers import RMSprop\n",
    "from torch.optim import Adam\n",
    "from keras.models import Sequential\n",
    "from keras.optimizers import RMSprop, Adam\n",
    "from keras.layers import Dense, Activation, Dropout, Conv2D, MaxPooling2D, Flatten\n",
    "from tensorflow import keras\n",
    "from keras.layers import LSTM\n",
    "\n",
    "import warnings\n",
    "warnings.filterwarnings(\"ignore\")\n"
   ]
  },
  {
   "cell_type": "markdown",
   "id": "949d8ed5",
   "metadata": {},
   "source": [
    "## 1. Transfer Learning for Image Classification1\n",
    "It is highly recommended that you complete this project using Keras2 and Python.\n"
   ]
  },
  {
   "cell_type": "markdown",
   "id": "abea2a47",
   "metadata": {},
   "source": [
    "#### (a) In this problem, we are trying to build a classifier that distinguishes images of 20 bird species. You are provided with text data in twenty folders.\n"
   ]
  },
  {
   "cell_type": "markdown",
   "id": "bbc8f8b0",
   "metadata": {},
   "source": [
    "#### (b) Data Exploration and Pre-processing"
   ]
  },
  {
   "cell_type": "markdown",
   "id": "d3972e7e",
   "metadata": {},
   "source": [
    "i. Images in each class are given in separate folders. The file Classes.xlsx provides the classes assigned to the bird species images in each folder. Therefore,\n",
    "you encode your classes using one-hot encoding and Classes.xlsx."
   ]
  },
  {
   "cell_type": "code",
   "execution_count": 2,
   "id": "6b1e1577",
   "metadata": {},
   "outputs": [],
   "source": [
    "class_dict = pd.read_excel(\"../data/Classes.xlsx\",index_col = None)"
   ]
  },
  {
   "cell_type": "code",
   "execution_count": 3,
   "id": "703e8323",
   "metadata": {},
   "outputs": [
    {
     "data": {
      "text/html": [
       "<div>\n",
       "<style scoped>\n",
       "    .dataframe tbody tr th:only-of-type {\n",
       "        vertical-align: middle;\n",
       "    }\n",
       "\n",
       "    .dataframe tbody tr th {\n",
       "        vertical-align: top;\n",
       "    }\n",
       "\n",
       "    .dataframe thead th {\n",
       "        text-align: right;\n",
       "    }\n",
       "</style>\n",
       "<table border=\"1\" class=\"dataframe\">\n",
       "  <thead>\n",
       "    <tr style=\"text-align: right;\">\n",
       "      <th></th>\n",
       "      <th>Folder Name</th>\n",
       "      <th>Class</th>\n",
       "    </tr>\n",
       "  </thead>\n",
       "  <tbody>\n",
       "    <tr>\n",
       "      <th>0</th>\n",
       "      <td>005.Crested_Auklet</td>\n",
       "      <td>0</td>\n",
       "    </tr>\n",
       "    <tr>\n",
       "      <th>1</th>\n",
       "      <td>013.Bobolink</td>\n",
       "      <td>1</td>\n",
       "    </tr>\n",
       "    <tr>\n",
       "      <th>2</th>\n",
       "      <td>015.Lazuli_Bunting</td>\n",
       "      <td>2</td>\n",
       "    </tr>\n",
       "    <tr>\n",
       "      <th>3</th>\n",
       "      <td>023.Brandt_Cormorant</td>\n",
       "      <td>3</td>\n",
       "    </tr>\n",
       "    <tr>\n",
       "      <th>4</th>\n",
       "      <td>040.Olive_sided_Flycatcher</td>\n",
       "      <td>4</td>\n",
       "    </tr>\n",
       "    <tr>\n",
       "      <th>5</th>\n",
       "      <td>041.Scissor_tailed_Flycatcher</td>\n",
       "      <td>5</td>\n",
       "    </tr>\n",
       "    <tr>\n",
       "      <th>6</th>\n",
       "      <td>067.Anna_Hummingbird</td>\n",
       "      <td>6</td>\n",
       "    </tr>\n",
       "    <tr>\n",
       "      <th>7</th>\n",
       "      <td>072.Pomarine_Jaeger</td>\n",
       "      <td>7</td>\n",
       "    </tr>\n",
       "    <tr>\n",
       "      <th>8</th>\n",
       "      <td>076.Dark_eyed_Junco</td>\n",
       "      <td>8</td>\n",
       "    </tr>\n",
       "    <tr>\n",
       "      <th>9</th>\n",
       "      <td>081.Pied_Kingfisher</td>\n",
       "      <td>9</td>\n",
       "    </tr>\n",
       "    <tr>\n",
       "      <th>10</th>\n",
       "      <td>082.Ringed_Kingfisher</td>\n",
       "      <td>10</td>\n",
       "    </tr>\n",
       "    <tr>\n",
       "      <th>11</th>\n",
       "      <td>086.Pacific_Loon</td>\n",
       "      <td>11</td>\n",
       "    </tr>\n",
       "    <tr>\n",
       "      <th>12</th>\n",
       "      <td>099.Ovenbird</td>\n",
       "      <td>12</td>\n",
       "    </tr>\n",
       "    <tr>\n",
       "      <th>13</th>\n",
       "      <td>104.American_Pipit</td>\n",
       "      <td>13</td>\n",
       "    </tr>\n",
       "    <tr>\n",
       "      <th>14</th>\n",
       "      <td>127.Savannah_Sparrow</td>\n",
       "      <td>14</td>\n",
       "    </tr>\n",
       "    <tr>\n",
       "      <th>15</th>\n",
       "      <td>135.Bank_Swallow</td>\n",
       "      <td>15</td>\n",
       "    </tr>\n",
       "    <tr>\n",
       "      <th>16</th>\n",
       "      <td>141.Artic_Tern</td>\n",
       "      <td>16</td>\n",
       "    </tr>\n",
       "    <tr>\n",
       "      <th>17</th>\n",
       "      <td>149.Brown_Thrasher</td>\n",
       "      <td>17</td>\n",
       "    </tr>\n",
       "    <tr>\n",
       "      <th>18</th>\n",
       "      <td>156.White_eyed_Vireo</td>\n",
       "      <td>18</td>\n",
       "    </tr>\n",
       "    <tr>\n",
       "      <th>19</th>\n",
       "      <td>168.Kentucky_Warbler</td>\n",
       "      <td>19</td>\n",
       "    </tr>\n",
       "  </tbody>\n",
       "</table>\n",
       "</div>"
      ],
      "text/plain": [
       "                     Folder Name   Class\n",
       "0              005.Crested_Auklet      0\n",
       "1                    013.Bobolink      1\n",
       "2              015.Lazuli_Bunting      2\n",
       "3            023.Brandt_Cormorant      3\n",
       "4      040.Olive_sided_Flycatcher      4\n",
       "5   041.Scissor_tailed_Flycatcher      5\n",
       "6            067.Anna_Hummingbird      6\n",
       "7             072.Pomarine_Jaeger      7\n",
       "8             076.Dark_eyed_Junco      8\n",
       "9             081.Pied_Kingfisher      9\n",
       "10          082.Ringed_Kingfisher     10\n",
       "11               086.Pacific_Loon     11\n",
       "12                   099.Ovenbird     12\n",
       "13             104.American_Pipit     13\n",
       "14           127.Savannah_Sparrow     14\n",
       "15               135.Bank_Swallow     15\n",
       "16                 141.Artic_Tern     16\n",
       "17             149.Brown_Thrasher     17\n",
       "18           156.White_eyed_Vireo     18\n",
       "19           168.Kentucky_Warbler     19"
      ]
     },
     "execution_count": 3,
     "metadata": {},
     "output_type": "execute_result"
    }
   ],
   "source": [
    "class_dict"
   ]
  },
  {
   "cell_type": "markdown",
   "id": "8382a58b",
   "metadata": {},
   "source": [
    "In order for all the images to have the same size, zero-pad or resize the images\n",
    "in your dataset. This can be done using various tools, including OpenCV."
   ]
  },
  {
   "cell_type": "code",
   "execution_count": 4,
   "id": "47a0ea52",
   "metadata": {},
   "outputs": [],
   "source": [
    "for idx,data in class_dict.iterrows():\n",
    "    directory = '../Data/images/'+data[0]\n",
    "    for filename in os.listdir(directory):\n",
    "        f = os.path.join(directory, filename)\n",
    "        image = cv2.imread(f)\n",
    "        down_width = 300\n",
    "        down_height = 200\n",
    "        down_points = (down_width, down_height)\n",
    "        resized_down = cv2.resize(image, down_points, interpolation= cv2.INTER_LINEAR)\n",
    "        cv2.imwrite(f, resized_down)"
   ]
  },
  {
   "cell_type": "markdown",
   "id": "de90cdb1",
   "metadata": {},
   "source": [
    "Randomly select d0.7nie images from each folder as your training set, d0.15nie\n",
    "as validation set, and the rest as your test set, where ni\n",
    "is the number of\n",
    "images in folder i and dxe is the ceiling of x."
   ]
  },
  {
   "cell_type": "code",
   "execution_count": 5,
   "id": "6b35907f",
   "metadata": {},
   "outputs": [
    {
     "name": "stderr",
     "output_type": "stream",
     "text": [
      "Copying files: 1176 files [00:08, 141.77 files/s]\n"
     ]
    }
   ],
   "source": [
    "inputfolder = '../Data/images'\n",
    "splited = splitfolders.ratio(inputfolder, output = \"output\", seed = 1, ratio = (0.7, 0.15, 0.15))"
   ]
  },
  {
   "cell_type": "markdown",
   "id": "9eaeb79b",
   "metadata": {},
   "source": [
    "### (c) Transfer Learning3"
   ]
  },
  {
   "cell_type": "markdown",
   "id": "944f7989",
   "metadata": {},
   "source": [
    "i. When dealing with classification of relatively small image datasets, deep networks may not perform very well because of not having enough data to train\n",
    "them. In such cases, one usually uses transfer learning, which uses deep\n",
    "learning models that are trained on very large datasets such as ImageNet\n",
    "as feature extractors. The idea is that such deep networks have learned to\n",
    "extract meaningful features from an image using their layers, and those features can be used in learning other tasks. In order to do that, usually the\n",
    "last layer or the last few layers of the pre-trained network are removed, and\n",
    "the response of the layer before the removed layers to the images in the new\n",
    "dataset is used as a feature vector to train one more multiple replacement layers. The dataset in this task has only around 50-60 images per class. Given\n",
    "that we have 20 classes, training a deep network with such a small dataset\n",
    "may not yield desirable results. In this project, you will use pre-trained models EfficientNetB0 and VGG16. For both pre-trained networks, you will only\n",
    "train the last fully connected layer, and will freeze all layers before them (i.e.\n",
    "we do not change their parameters during training) and use the outputs of the\n",
    "penultimate layer in the original pre-trained model as the features extracted\n",
    "from each image."
   ]
  },
  {
   "cell_type": "markdown",
   "id": "215a73e1",
   "metadata": {},
   "source": [
    "ii. To perform empirical regularization, crop, randomly zoo, rotate, flip, contrast,\n",
    "and translate images in your training set for image augmentation. You can\n",
    "use various tools to do this, including OpenCV."
   ]
  },
  {
   "cell_type": "code",
   "execution_count": 6,
   "id": "4a2a39d6",
   "metadata": {},
   "outputs": [],
   "source": [
    "for idx,data in class_dict.iterrows():\n",
    "    directory = '../notebook/output/train/'+data[0]\n",
    "    for filename in os.listdir(directory):\n",
    "        f = os.path.join(directory, filename)\n",
    "        image = cv2.imread(f)\n",
    "        random_width = random.randint(2,12) * 100\n",
    "        random_height = random.randint(2,12) * 100\n",
    "        points = (random_width, random_height)\n",
    "        resized = cv2.resize(image, points, interpolation= cv2.INTER_LINEAR)\n",
    "        if_flip = random.randint(0,3)\n",
    "        if if_flip == 1:\n",
    "            resized = cv2.flip(resized, 0)\n",
    "        elif if_flip == 2:\n",
    "            resized = cv2.flip(resized, 1)\n",
    "        elif if_flip == 3:\n",
    "            resized = cv2.flip(resized, 0)\n",
    "            resized = cv2.flip(resized, 1)\n",
    "        cv2.imwrite(f, resized)"
   ]
  },
  {
   "cell_type": "markdown",
   "id": "6ea47a3d",
   "metadata": {},
   "source": [
    "iii. Use ReLU activation functions in the last layer and a softmax layer, along\n",
    "with batch normalization 4 and a dropout rate of 20% as well as ADAM optimizer. Use multinomial cross entropy loss. You can try any batch size,\n",
    "but a batch size of 5 seems reasonable.\n"
   ]
  },
  {
   "cell_type": "code",
   "execution_count": 7,
   "id": "a45dc611",
   "metadata": {},
   "outputs": [],
   "source": [
    "#3\n",
    "train = ImageDataGenerator(rescale = 1/255)\n",
    "validation = ImageDataGenerator(rescale = 1/255)"
   ]
  },
  {
   "cell_type": "code",
   "execution_count": 8,
   "id": "3d74c6b8",
   "metadata": {},
   "outputs": [
    {
     "name": "stdout",
     "output_type": "stream",
     "text": [
      "Found 820 images belonging to 20 classes.\n"
     ]
    }
   ],
   "source": [
    "#3\n",
    "train_dataset = train.flow_from_directory('../notebook/output/train/',\n",
    "                                          target_size=(200, 200),\n",
    "                                         batch_size = 5,\n",
    "                                          class_mode='categorical')"
   ]
  },
  {
   "cell_type": "code",
   "execution_count": 9,
   "id": "4c571739",
   "metadata": {},
   "outputs": [
    {
     "name": "stdout",
     "output_type": "stream",
     "text": [
      "Found 171 images belonging to 20 classes.\n"
     ]
    }
   ],
   "source": [
    "#3\n",
    "validation_dataset = train.flow_from_directory('../notebook/output/val/',\n",
    "                                                target_size=(200, 200),\n",
    "                                         batch_size = 5,\n",
    "                                          class_mode='categorical')"
   ]
  },
  {
   "cell_type": "code",
   "execution_count": 10,
   "id": "45083d83",
   "metadata": {},
   "outputs": [
    {
     "data": {
      "text/plain": [
       "{'005.Crested_Auklet': 0,\n",
       " '013.Bobolink': 1,\n",
       " '015.Lazuli_Bunting': 2,\n",
       " '023.Brandt_Cormorant': 3,\n",
       " '040.Olive_sided_Flycatcher': 4,\n",
       " '041.Scissor_tailed_Flycatcher': 5,\n",
       " '067.Anna_Hummingbird': 6,\n",
       " '072.Pomarine_Jaeger': 7,\n",
       " '076.Dark_eyed_Junco': 8,\n",
       " '081.Pied_Kingfisher': 9,\n",
       " '082.Ringed_Kingfisher': 10,\n",
       " '086.Pacific_Loon': 11,\n",
       " '099.Ovenbird': 12,\n",
       " '104.American_Pipit': 13,\n",
       " '127.Savannah_Sparrow': 14,\n",
       " '135.Bank_Swallow': 15,\n",
       " '141.Artic_Tern': 16,\n",
       " '149.Brown_Thrasher': 17,\n",
       " '156.White_eyed_Vireo': 18,\n",
       " '168.Kentucky_Warbler': 19}"
      ]
     },
     "execution_count": 10,
     "metadata": {},
     "output_type": "execute_result"
    }
   ],
   "source": [
    "train_dataset.class_indices"
   ]
  },
  {
   "cell_type": "code",
   "execution_count": 11,
   "id": "327bc24f",
   "metadata": {},
   "outputs": [],
   "source": [
    "model = tf.keras.models.Sequential([tf.keras.layers.Conv2D(16, (3,3), activation = 'relu', input_shape = (200, 200, 3)),\n",
    "                                    tf.keras.layers.BatchNormalization(momentum=0.2),\n",
    "                                   #\n",
    "                                    tf.keras.layers.Conv2D(32, (3,3), activation = 'relu'),\n",
    "                                    tf.keras.layers.BatchNormalization(momentum=0.2),\n",
    "                                    #\n",
    "                                    tf.keras.layers.Conv2D(64, (3,3), activation = 'relu'),\n",
    "                                    tf.keras.layers.BatchNormalization(momentum=0.2),\n",
    "                                    ##\n",
    "                                    tf.keras.layers.Flatten(),\n",
    "                                    ##\n",
    "                                    tf.keras.layers.Dense(512, activation = 'relu'),\n",
    "                                    ##\n",
    "                                    tf.keras.layers.Dense(20, activation = 'softmax')\n",
    "])"
   ]
  },
  {
   "cell_type": "markdown",
   "id": "d725a7eb",
   "metadata": {},
   "source": [
    "iv. Train the networks (EfficientNetB0 and VGG16) for at least 50 epochs\n",
    "(preferably 100 epochs) and perform early stopping using the validation set.\n",
    "Keep the network parameters that have the lowest validation error. Plot the\n",
    "training and validation errors vs. epochs."
   ]
  },
  {
   "cell_type": "code",
   "execution_count": 12,
   "id": "9d139f11",
   "metadata": {},
   "outputs": [],
   "source": [
    "model.compile(loss = 'categorical_crossentropy',\n",
    "             optimizer = Adam(lr = 0.001),\n",
    "             metrics = ['accuracy'])"
   ]
  },
  {
   "cell_type": "code",
   "execution_count": 47,
   "id": "8e375540",
   "metadata": {},
   "outputs": [
    {
     "name": "stdout",
     "output_type": "stream",
     "text": [
      "WARNING:tensorflow:`period` argument is deprecated. Please use `save_freq` to specify the frequency in number of batches seen.\n"
     ]
    }
   ],
   "source": [
    "checkpoint = ModelCheckpoint(\"vgg16_1.h5\", monitor='val_loss', verbose=1, save_best_only=True, save_weights_only=False, mode='auto', period=1)"
   ]
  },
  {
   "cell_type": "code",
   "execution_count": 48,
   "id": "b74d61bc",
   "metadata": {},
   "outputs": [],
   "source": [
    "early = EarlyStopping(monitor='val_loss', min_delta=0, patience=20, verbose=1, mode='auto')"
   ]
  },
  {
   "cell_type": "code",
   "execution_count": 49,
   "id": "262f1588",
   "metadata": {},
   "outputs": [
    {
     "name": "stdout",
     "output_type": "stream",
     "text": [
      "Epoch 1/100\n",
      "10/10 [==============================] - ETA: 0s - loss: 19.3698 - accuracy: 0.6000\n",
      "Epoch 1: val_loss improved from inf to 1297.35498, saving model to vgg16_1.h5\n",
      "10/10 [==============================] - 168s 18s/step - loss: 19.3698 - accuracy: 0.6000 - val_loss: 1297.3550 - val_accuracy: 0.1111\n",
      "Epoch 2/100\n",
      "10/10 [==============================] - ETA: 0s - loss: 5.1766 - accuracy: 0.7200\n",
      "Epoch 2: val_loss improved from 1297.35498 to 446.43851, saving model to vgg16_1.h5\n",
      "10/10 [==============================] - 151s 16s/step - loss: 5.1766 - accuracy: 0.7200 - val_loss: 446.4385 - val_accuracy: 0.0760\n",
      "Epoch 3/100\n",
      "10/10 [==============================] - ETA: 0s - loss: 3.1512 - accuracy: 0.6800\n",
      "Epoch 3: val_loss improved from 446.43851 to 315.99142, saving model to vgg16_1.h5\n",
      "10/10 [==============================] - 153s 17s/step - loss: 3.1512 - accuracy: 0.6800 - val_loss: 315.9914 - val_accuracy: 0.0877\n",
      "Epoch 4/100\n",
      "10/10 [==============================] - ETA: 0s - loss: 17.8841 - accuracy: 0.6600\n",
      "Epoch 4: val_loss improved from 315.99142 to 262.59207, saving model to vgg16_1.h5\n",
      "10/10 [==============================] - 151s 16s/step - loss: 17.8841 - accuracy: 0.6600 - val_loss: 262.5921 - val_accuracy: 0.0760\n",
      "Epoch 5/100\n",
      "10/10 [==============================] - ETA: 0s - loss: 17.5232 - accuracy: 0.6600\n",
      "Epoch 5: val_loss did not improve from 262.59207\n",
      "10/10 [==============================] - 42s 4s/step - loss: 17.5232 - accuracy: 0.6600 - val_loss: 776.4016 - val_accuracy: 0.1053\n",
      "Epoch 6/100\n",
      "10/10 [==============================] - ETA: 0s - loss: 90.2934 - accuracy: 0.6200 \n",
      "Epoch 6: val_loss improved from 262.59207 to 236.49794, saving model to vgg16_1.h5\n",
      "10/10 [==============================] - 152s 17s/step - loss: 90.2934 - accuracy: 0.6200 - val_loss: 236.4979 - val_accuracy: 0.0702\n",
      "Epoch 7/100\n",
      "10/10 [==============================] - ETA: 0s - loss: 9.3649 - accuracy: 0.7200\n",
      "Epoch 7: val_loss did not improve from 236.49794\n",
      "10/10 [==============================] - 43s 4s/step - loss: 9.3649 - accuracy: 0.7200 - val_loss: 250.0079 - val_accuracy: 0.0702\n",
      "Epoch 8/100\n",
      "10/10 [==============================] - ETA: 0s - loss: 16.8211 - accuracy: 0.5800\n",
      "Epoch 8: val_loss did not improve from 236.49794\n",
      "10/10 [==============================] - 42s 4s/step - loss: 16.8211 - accuracy: 0.5800 - val_loss: 321.1170 - val_accuracy: 0.1053\n",
      "Epoch 9/100\n",
      "10/10 [==============================] - ETA: 0s - loss: 141.9000 - accuracy: 0.6400\n",
      "Epoch 9: val_loss improved from 236.49794 to 209.82568, saving model to vgg16_1.h5\n",
      "10/10 [==============================] - 154s 17s/step - loss: 141.9000 - accuracy: 0.6400 - val_loss: 209.8257 - val_accuracy: 0.0819\n",
      "Epoch 10/100\n",
      "10/10 [==============================] - ETA: 0s - loss: 17.5136 - accuracy: 0.5800\n",
      "Epoch 10: val_loss did not improve from 209.82568\n",
      "10/10 [==============================] - 43s 4s/step - loss: 17.5136 - accuracy: 0.5800 - val_loss: 507.3918 - val_accuracy: 0.0936\n",
      "Epoch 11/100\n",
      "10/10 [==============================] - ETA: 0s - loss: 21.3827 - accuracy: 0.5400\n",
      "Epoch 11: val_loss improved from 209.82568 to 164.43440, saving model to vgg16_1.h5\n",
      "10/10 [==============================] - 153s 17s/step - loss: 21.3827 - accuracy: 0.5400 - val_loss: 164.4344 - val_accuracy: 0.1170\n",
      "Epoch 12/100\n",
      "10/10 [==============================] - ETA: 0s - loss: 6.2285 - accuracy: 0.5000\n",
      "Epoch 12: val_loss did not improve from 164.43440\n",
      "10/10 [==============================] - 44s 5s/step - loss: 6.2285 - accuracy: 0.5000 - val_loss: 232.6499 - val_accuracy: 0.0819\n",
      "Epoch 13/100\n",
      "10/10 [==============================] - ETA: 0s - loss: 2.9866 - accuracy: 0.6600\n",
      "Epoch 13: val_loss did not improve from 164.43440\n",
      "10/10 [==============================] - 43s 4s/step - loss: 2.9866 - accuracy: 0.6600 - val_loss: 200.3587 - val_accuracy: 0.0819\n",
      "Epoch 14/100\n",
      "10/10 [==============================] - ETA: 0s - loss: 11.6017 - accuracy: 0.5600\n",
      "Epoch 14: val_loss did not improve from 164.43440\n",
      "10/10 [==============================] - 43s 4s/step - loss: 11.6017 - accuracy: 0.5600 - val_loss: 475.9333 - val_accuracy: 0.0760\n",
      "Epoch 15/100\n",
      "10/10 [==============================] - ETA: 0s - loss: 4.9175 - accuracy: 0.6400\n",
      "Epoch 15: val_loss did not improve from 164.43440\n",
      "10/10 [==============================] - 44s 5s/step - loss: 4.9175 - accuracy: 0.6400 - val_loss: 383.9161 - val_accuracy: 0.0526\n",
      "Epoch 16/100\n",
      "10/10 [==============================] - ETA: 0s - loss: 1.2147 - accuracy: 0.6200\n",
      "Epoch 16: val_loss did not improve from 164.43440\n",
      "10/10 [==============================] - 44s 4s/step - loss: 1.2147 - accuracy: 0.6200 - val_loss: 280.2378 - val_accuracy: 0.0526\n",
      "Epoch 17/100\n",
      "10/10 [==============================] - ETA: 0s - loss: 14.8314 - accuracy: 0.5800\n",
      "Epoch 17: val_loss did not improve from 164.43440\n",
      "10/10 [==============================] - 43s 4s/step - loss: 14.8314 - accuracy: 0.5800 - val_loss: 384.0042 - val_accuracy: 0.0585\n",
      "Epoch 18/100\n",
      "10/10 [==============================] - ETA: 0s - loss: 7.8261 - accuracy: 0.5800\n",
      "Epoch 18: val_loss did not improve from 164.43440\n",
      "10/10 [==============================] - 43s 4s/step - loss: 7.8261 - accuracy: 0.5800 - val_loss: 423.0545 - val_accuracy: 0.0585\n",
      "Epoch 19/100\n",
      "10/10 [==============================] - ETA: 0s - loss: 24.2149 - accuracy: 0.6200\n",
      "Epoch 19: val_loss improved from 164.43440 to 128.54491, saving model to vgg16_1.h5\n",
      "10/10 [==============================] - 167s 18s/step - loss: 24.2149 - accuracy: 0.6200 - val_loss: 128.5449 - val_accuracy: 0.0292\n",
      "Epoch 20/100\n",
      "10/10 [==============================] - ETA: 0s - loss: 3.2151 - accuracy: 0.6600\n",
      "Epoch 20: val_loss did not improve from 128.54491\n",
      "10/10 [==============================] - 45s 5s/step - loss: 3.2151 - accuracy: 0.6600 - val_loss: 148.5480 - val_accuracy: 0.0760\n",
      "Epoch 21/100\n",
      "10/10 [==============================] - ETA: 0s - loss: 5.4450 - accuracy: 0.6000\n",
      "Epoch 21: val_loss did not improve from 128.54491\n",
      "10/10 [==============================] - 44s 4s/step - loss: 5.4450 - accuracy: 0.6000 - val_loss: 183.7830 - val_accuracy: 0.0702\n",
      "Epoch 22/100\n",
      "10/10 [==============================] - ETA: 0s - loss: 2.7758 - accuracy: 0.5600\n",
      "Epoch 22: val_loss did not improve from 128.54491\n",
      "10/10 [==============================] - 44s 4s/step - loss: 2.7758 - accuracy: 0.5600 - val_loss: 218.0317 - val_accuracy: 0.0643\n",
      "Epoch 23/100\n",
      "10/10 [==============================] - ETA: 0s - loss: 10.8649 - accuracy: 0.6800\n",
      "Epoch 23: val_loss did not improve from 128.54491\n",
      "10/10 [==============================] - 43s 4s/step - loss: 10.8649 - accuracy: 0.6800 - val_loss: 406.8803 - val_accuracy: 0.0877\n",
      "Epoch 24/100\n",
      "10/10 [==============================] - ETA: 0s - loss: 63.2539 - accuracy: 0.5600\n",
      "Epoch 24: val_loss did not improve from 128.54491\n",
      "10/10 [==============================] - 44s 4s/step - loss: 63.2539 - accuracy: 0.5600 - val_loss: 290.7390 - val_accuracy: 0.0585\n",
      "Epoch 25/100\n",
      "10/10 [==============================] - ETA: 0s - loss: 1.7860 - accuracy: 0.6800\n",
      "Epoch 25: val_loss did not improve from 128.54491\n",
      "10/10 [==============================] - 43s 4s/step - loss: 1.7860 - accuracy: 0.6800 - val_loss: 502.0137 - val_accuracy: 0.0526\n",
      "Epoch 26/100\n",
      "10/10 [==============================] - ETA: 0s - loss: 17.5735 - accuracy: 0.5600\n",
      "Epoch 26: val_loss did not improve from 128.54491\n",
      "10/10 [==============================] - 44s 4s/step - loss: 17.5735 - accuracy: 0.5600 - val_loss: 294.0771 - val_accuracy: 0.0409\n",
      "Epoch 27/100\n",
      "10/10 [==============================] - ETA: 0s - loss: 16.2517 - accuracy: 0.5800\n",
      "Epoch 27: val_loss did not improve from 128.54491\n",
      "10/10 [==============================] - 44s 5s/step - loss: 16.2517 - accuracy: 0.5800 - val_loss: 911.4871 - val_accuracy: 0.0936\n",
      "Epoch 28/100\n",
      "10/10 [==============================] - ETA: 0s - loss: 2.0777 - accuracy: 0.6200\n",
      "Epoch 28: val_loss did not improve from 128.54491\n",
      "10/10 [==============================] - 44s 5s/step - loss: 2.0777 - accuracy: 0.6200 - val_loss: 262.7467 - val_accuracy: 0.0643\n",
      "Epoch 29/100\n",
      "10/10 [==============================] - ETA: 0s - loss: 5.8423 - accuracy: 0.5800\n",
      "Epoch 29: val_loss did not improve from 128.54491\n"
     ]
    },
    {
     "name": "stdout",
     "output_type": "stream",
     "text": [
      "10/10 [==============================] - 45s 5s/step - loss: 5.8423 - accuracy: 0.5800 - val_loss: 450.7281 - val_accuracy: 0.0877\n",
      "Epoch 30/100\n",
      "10/10 [==============================] - ETA: 0s - loss: 5.7474 - accuracy: 0.7400\n",
      "Epoch 30: val_loss did not improve from 128.54491\n",
      "10/10 [==============================] - 44s 5s/step - loss: 5.7474 - accuracy: 0.7400 - val_loss: 426.3539 - val_accuracy: 0.0585\n",
      "Epoch 31/100\n",
      "10/10 [==============================] - ETA: 0s - loss: 11.6731 - accuracy: 0.6400\n",
      "Epoch 31: val_loss improved from 128.54491 to 121.76817, saving model to vgg16_1.h5\n",
      "10/10 [==============================] - 157s 17s/step - loss: 11.6731 - accuracy: 0.6400 - val_loss: 121.7682 - val_accuracy: 0.0351\n",
      "Epoch 32/100\n",
      "10/10 [==============================] - ETA: 0s - loss: 2.9476 - accuracy: 0.5600\n",
      "Epoch 32: val_loss did not improve from 121.76817\n",
      "10/10 [==============================] - 47s 5s/step - loss: 2.9476 - accuracy: 0.5600 - val_loss: 476.3105 - val_accuracy: 0.0994\n",
      "Epoch 33/100\n",
      "10/10 [==============================] - ETA: 0s - loss: 2.4220 - accuracy: 0.5600\n",
      "Epoch 33: val_loss did not improve from 121.76817\n",
      "10/10 [==============================] - 46s 5s/step - loss: 2.4220 - accuracy: 0.5600 - val_loss: 224.6332 - val_accuracy: 0.0585\n",
      "Epoch 34/100\n",
      "10/10 [==============================] - ETA: 0s - loss: 2.3065 - accuracy: 0.6600\n",
      "Epoch 34: val_loss did not improve from 121.76817\n",
      "10/10 [==============================] - 46s 5s/step - loss: 2.3065 - accuracy: 0.6600 - val_loss: 264.0580 - val_accuracy: 0.0702\n",
      "Epoch 35/100\n",
      "10/10 [==============================] - ETA: 0s - loss: 11.2048 - accuracy: 0.6400\n",
      "Epoch 35: val_loss did not improve from 121.76817\n",
      "10/10 [==============================] - 46s 5s/step - loss: 11.2048 - accuracy: 0.6400 - val_loss: 174.2528 - val_accuracy: 0.0643\n",
      "Epoch 36/100\n",
      "10/10 [==============================] - ETA: 0s - loss: 4.1752 - accuracy: 0.7000\n",
      "Epoch 36: val_loss did not improve from 121.76817\n",
      "10/10 [==============================] - 45s 5s/step - loss: 4.1752 - accuracy: 0.7000 - val_loss: 152.2897 - val_accuracy: 0.0643\n",
      "Epoch 37/100\n",
      "10/10 [==============================] - ETA: 0s - loss: 3.7558 - accuracy: 0.6000\n",
      "Epoch 37: val_loss did not improve from 121.76817\n",
      "10/10 [==============================] - 45s 5s/step - loss: 3.7558 - accuracy: 0.6000 - val_loss: 182.8666 - val_accuracy: 0.0643\n",
      "Epoch 38/100\n",
      "10/10 [==============================] - ETA: 0s - loss: 4.9167 - accuracy: 0.5600\n",
      "Epoch 38: val_loss did not improve from 121.76817\n",
      "10/10 [==============================] - 45s 5s/step - loss: 4.9167 - accuracy: 0.5600 - val_loss: 251.7753 - val_accuracy: 0.0877\n",
      "Epoch 39/100\n",
      "10/10 [==============================] - ETA: 0s - loss: 5.5800 - accuracy: 0.5800\n",
      "Epoch 39: val_loss improved from 121.76817 to 100.51124, saving model to vgg16_1.h5\n",
      "10/10 [==============================] - 152s 16s/step - loss: 5.5800 - accuracy: 0.5800 - val_loss: 100.5112 - val_accuracy: 0.0643\n",
      "Epoch 40/100\n",
      "10/10 [==============================] - ETA: 0s - loss: 2.1520 - accuracy: 0.7400\n",
      "Epoch 40: val_loss did not improve from 100.51124\n",
      "10/10 [==============================] - 45s 5s/step - loss: 2.1520 - accuracy: 0.7400 - val_loss: 296.4426 - val_accuracy: 0.0877\n",
      "Epoch 41/100\n",
      "10/10 [==============================] - ETA: 0s - loss: 1.7685 - accuracy: 0.6600\n",
      "Epoch 41: val_loss did not improve from 100.51124\n",
      "10/10 [==============================] - 44s 4s/step - loss: 1.7685 - accuracy: 0.6600 - val_loss: 151.8911 - val_accuracy: 0.0351\n",
      "Epoch 42/100\n",
      "10/10 [==============================] - ETA: 0s - loss: 7.7241 - accuracy: 0.6800\n",
      "Epoch 42: val_loss did not improve from 100.51124\n",
      "10/10 [==============================] - 44s 5s/step - loss: 7.7241 - accuracy: 0.6800 - val_loss: 321.2413 - val_accuracy: 0.0760\n",
      "Epoch 43/100\n",
      "10/10 [==============================] - ETA: 0s - loss: 1.9092 - accuracy: 0.7000\n",
      "Epoch 43: val_loss improved from 100.51124 to 91.93818, saving model to vgg16_1.h5\n",
      "10/10 [==============================] - 153s 17s/step - loss: 1.9092 - accuracy: 0.7000 - val_loss: 91.9382 - val_accuracy: 0.0234\n",
      "Epoch 44/100\n",
      "10/10 [==============================] - ETA: 0s - loss: 2.5930 - accuracy: 0.6200\n",
      "Epoch 44: val_loss did not improve from 91.93818\n",
      "10/10 [==============================] - 45s 5s/step - loss: 2.5930 - accuracy: 0.6200 - val_loss: 474.7333 - val_accuracy: 0.0877\n",
      "Epoch 45/100\n",
      "10/10 [==============================] - ETA: 0s - loss: 1.6936 - accuracy: 0.6600\n",
      "Epoch 45: val_loss did not improve from 91.93818\n",
      "10/10 [==============================] - 43s 4s/step - loss: 1.6936 - accuracy: 0.6600 - val_loss: 211.5810 - val_accuracy: 0.0760\n",
      "Epoch 46/100\n",
      "10/10 [==============================] - ETA: 0s - loss: 4.3691 - accuracy: 0.6400\n",
      "Epoch 46: val_loss did not improve from 91.93818\n",
      "10/10 [==============================] - 44s 4s/step - loss: 4.3691 - accuracy: 0.6400 - val_loss: 226.0951 - val_accuracy: 0.0877\n",
      "Epoch 47/100\n",
      "10/10 [==============================] - ETA: 0s - loss: 1.1983 - accuracy: 0.6600\n",
      "Epoch 47: val_loss did not improve from 91.93818\n",
      "10/10 [==============================] - 45s 5s/step - loss: 1.1983 - accuracy: 0.6600 - val_loss: 223.8107 - val_accuracy: 0.0936\n",
      "Epoch 48/100\n",
      "10/10 [==============================] - ETA: 0s - loss: 7.0901 - accuracy: 0.6400\n",
      "Epoch 48: val_loss did not improve from 91.93818\n",
      "10/10 [==============================] - 44s 5s/step - loss: 7.0901 - accuracy: 0.6400 - val_loss: 109.5171 - val_accuracy: 0.0819\n",
      "Epoch 49/100\n",
      "10/10 [==============================] - ETA: 0s - loss: 1.8006 - accuracy: 0.7200\n",
      "Epoch 49: val_loss did not improve from 91.93818\n",
      "10/10 [==============================] - 45s 5s/step - loss: 1.8006 - accuracy: 0.7200 - val_loss: 404.5208 - val_accuracy: 0.0877\n",
      "Epoch 50/100\n",
      "10/10 [==============================] - ETA: 0s - loss: 2.7445 - accuracy: 0.6800\n",
      "Epoch 50: val_loss did not improve from 91.93818\n",
      "10/10 [==============================] - 45s 5s/step - loss: 2.7445 - accuracy: 0.6800 - val_loss: 182.1696 - val_accuracy: 0.0994\n",
      "Epoch 51/100\n",
      "10/10 [==============================] - ETA: 0s - loss: 0.8362 - accuracy: 0.7600\n",
      "Epoch 51: val_loss did not improve from 91.93818\n",
      "10/10 [==============================] - 44s 5s/step - loss: 0.8362 - accuracy: 0.7600 - val_loss: 315.2180 - val_accuracy: 0.0936\n",
      "Epoch 52/100\n",
      "10/10 [==============================] - ETA: 0s - loss: 6.2252 - accuracy: 0.7600\n",
      "Epoch 52: val_loss did not improve from 91.93818\n",
      "10/10 [==============================] - 45s 5s/step - loss: 6.2252 - accuracy: 0.7600 - val_loss: 136.3764 - val_accuracy: 0.0994\n",
      "Epoch 53/100\n",
      "10/10 [==============================] - ETA: 0s - loss: 1.9160 - accuracy: 0.6600\n",
      "Epoch 53: val_loss did not improve from 91.93818\n",
      "10/10 [==============================] - 44s 5s/step - loss: 1.9160 - accuracy: 0.6600 - val_loss: 265.9551 - val_accuracy: 0.0760\n",
      "Epoch 54/100\n",
      "10/10 [==============================] - ETA: 0s - loss: 1.8757 - accuracy: 0.5600\n",
      "Epoch 54: val_loss did not improve from 91.93818\n",
      "10/10 [==============================] - 45s 5s/step - loss: 1.8757 - accuracy: 0.5600 - val_loss: 161.2383 - val_accuracy: 0.0819\n",
      "Epoch 55/100\n",
      "10/10 [==============================] - ETA: 0s - loss: 7.5226 - accuracy: 0.7000\n",
      "Epoch 55: val_loss did not improve from 91.93818\n",
      "10/10 [==============================] - 45s 5s/step - loss: 7.5226 - accuracy: 0.7000 - val_loss: 122.6234 - val_accuracy: 0.0585\n",
      "Epoch 56/100\n",
      "10/10 [==============================] - ETA: 0s - loss: 1.2625 - accuracy: 0.7000\n",
      "Epoch 56: val_loss did not improve from 91.93818\n",
      "10/10 [==============================] - 44s 5s/step - loss: 1.2625 - accuracy: 0.7000 - val_loss: 271.0607 - val_accuracy: 0.0877\n",
      "Epoch 57/100\n",
      "10/10 [==============================] - ETA: 0s - loss: 0.9005 - accuracy: 0.7200\n",
      "Epoch 57: val_loss did not improve from 91.93818\n",
      "10/10 [==============================] - 44s 5s/step - loss: 0.9005 - accuracy: 0.7200 - val_loss: 528.2179 - val_accuracy: 0.0760\n",
      "Epoch 58/100\n",
      "10/10 [==============================] - ETA: 0s - loss: 1.1067 - accuracy: 0.6400\n",
      "Epoch 58: val_loss did not improve from 91.93818\n",
      "10/10 [==============================] - 44s 5s/step - loss: 1.1067 - accuracy: 0.6400 - val_loss: 191.4394 - val_accuracy: 0.0702\n"
     ]
    },
    {
     "name": "stdout",
     "output_type": "stream",
     "text": [
      "Epoch 59/100\n",
      "10/10 [==============================] - ETA: 0s - loss: 1.0473 - accuracy: 0.7400\n",
      "Epoch 59: val_loss did not improve from 91.93818\n",
      "10/10 [==============================] - 45s 5s/step - loss: 1.0473 - accuracy: 0.7400 - val_loss: 754.0551 - val_accuracy: 0.1111\n",
      "Epoch 60/100\n",
      "10/10 [==============================] - ETA: 0s - loss: 1.8378 - accuracy: 0.7400\n",
      "Epoch 60: val_loss did not improve from 91.93818\n",
      "10/10 [==============================] - 45s 5s/step - loss: 1.8378 - accuracy: 0.7400 - val_loss: 163.9984 - val_accuracy: 0.0702\n",
      "Epoch 61/100\n",
      "10/10 [==============================] - ETA: 0s - loss: 0.7561 - accuracy: 0.7800\n",
      "Epoch 61: val_loss did not improve from 91.93818\n",
      "10/10 [==============================] - 45s 5s/step - loss: 0.7561 - accuracy: 0.7800 - val_loss: 264.7824 - val_accuracy: 0.0643\n",
      "Epoch 62/100\n",
      "10/10 [==============================] - ETA: 0s - loss: 1.1346 - accuracy: 0.6600\n",
      "Epoch 62: val_loss did not improve from 91.93818\n",
      "10/10 [==============================] - 44s 5s/step - loss: 1.1346 - accuracy: 0.6600 - val_loss: 113.6731 - val_accuracy: 0.0643\n",
      "Epoch 63/100\n",
      "10/10 [==============================] - ETA: 0s - loss: 3.6359 - accuracy: 0.6600\n",
      "Epoch 63: val_loss did not improve from 91.93818\n",
      "10/10 [==============================] - 45s 5s/step - loss: 3.6359 - accuracy: 0.6600 - val_loss: 281.5931 - val_accuracy: 0.0877\n",
      "Epoch 63: early stopping\n"
     ]
    }
   ],
   "source": [
    "model_fit = model.fit_generator(train_dataset,\n",
    "                     steps_per_epoch = 10,\n",
    "                     epochs = 100,\n",
    "                      validation_data = validation_dataset,\n",
    "                    callbacks=[checkpoint, early]\n",
    "                     )"
   ]
  },
  {
   "cell_type": "code",
   "execution_count": 58,
   "id": "9952ad41",
   "metadata": {},
   "outputs": [],
   "source": [
    "loss = model_fit.history['loss']\n",
    "val_loss = model_fit.history['val_loss']\n",
    "accuracy = model_fit.history['accuracy']\n",
    "val_accuracy = model_fit.history['val_accuracy']"
   ]
  },
  {
   "cell_type": "code",
   "execution_count": 59,
   "id": "e885f5ec",
   "metadata": {},
   "outputs": [
    {
     "data": {
      "image/png": "[encoded data removed]",
      "text/plain": [
       "<Figure size 432x288 with 1 Axes>"
      ]
     },
     "metadata": {
      "needs_background": "light"
     },
     "output_type": "display_data"
    }
   ],
   "source": [
    "plt.plot(loss, label='Training Loss')\n",
    "plt.plot(val_loss, label='Validation Loss')\n",
    "plt.title('Training Loss vs Validation Loss')\n",
    "plt.ylabel('Loss')\n",
    "plt.xlabel('Epoch')\n",
    "plt.legend()\n",
    "plt.show()"
   ]
  },
  {
   "cell_type": "code",
   "execution_count": 60,
   "id": "9ca6f823",
   "metadata": {},
   "outputs": [
    {
     "data": {
      "image/png": "[encoded data removed]",
      "text/plain": [
       "<Figure size 432x288 with 1 Axes>"
      ]
     },
     "metadata": {
      "needs_background": "light"
     },
     "output_type": "display_data"
    }
   ],
   "source": [
    "plt.plot(accuracy, label='Training accuracy')\n",
    "plt.plot(val_accuracy, label='Validation accuracy')\n",
    "plt.title('Training accuracy vs Validation accuracy')\n",
    "plt.ylabel('accuracy')\n",
    "plt.xlabel('Epoch')\n",
    "plt.legend()\n",
    "plt.show()"
   ]
  },
  {
   "cell_type": "markdown",
   "id": "330a0ec2",
   "metadata": {},
   "source": [
    "v. Report Precision, Recall, and F1 score for your model. Remember that this\n",
    "is a multi-class classification problem."
   ]
  },
  {
   "cell_type": "code",
   "execution_count": 33,
   "id": "6e048887",
   "metadata": {},
   "outputs": [],
   "source": [
    "from sklearn.metrics import classification_report, confusion_matrix"
   ]
  },
  {
   "cell_type": "code",
   "execution_count": 50,
   "id": "8bfcf3cd",
   "metadata": {},
   "outputs": [],
   "source": [
    "test_datagen = ImageDataGenerator(rescale=1. / 255)"
   ]
  },
  {
   "cell_type": "code",
   "execution_count": 51,
   "id": "adec9fb9",
   "metadata": {},
   "outputs": [
    {
     "name": "stdout",
     "output_type": "stream",
     "text": [
      "Found 185 images belonging to 20 classes.\n"
     ]
    }
   ],
   "source": [
    "validation_generator = test_datagen.flow_from_directory('../notebook/output/test/',\n",
    "                                          target_size=(200, 200),\n",
    "                                         batch_size = 5,\n",
    "                                                        class_mode='categorical')"
   ]
  },
  {
   "cell_type": "code",
   "execution_count": 52,
   "id": "591a49cb",
   "metadata": {},
   "outputs": [
    {
     "name": "stdout",
     "output_type": "stream",
     "text": [
      "WARNING:tensorflow:Your input ran out of data; interrupting training. Make sure that your dataset or generator can generate at least `steps_per_epoch * epochs` batches (in this case, 38 batches). You may need to use the repeat() function when building your dataset.\n"
     ]
    }
   ],
   "source": [
    "Y_pred = model.predict_generator(validation_generator, 185 // 5+1)"
   ]
  },
  {
   "cell_type": "code",
   "execution_count": 53,
   "id": "2d0628f1",
   "metadata": {},
   "outputs": [],
   "source": [
    "y_pred = np.argmax(Y_pred, axis=1)"
   ]
  },
  {
   "cell_type": "code",
   "execution_count": 54,
   "id": "09769819",
   "metadata": {},
   "outputs": [
    {
     "name": "stdout",
     "output_type": "stream",
     "text": [
      "[[0 0 0 1 1 0 0 0 0 1 1 3 0 0 0 1 0 0 0 0]\n",
      " [0 0 0 1 0 0 1 0 1 0 0 5 0 0 0 0 0 1 0 0]\n",
      " [0 1 1 0 1 1 0 0 0 0 2 4 0 0 0 0 0 0 0 0]\n",
      " [0 0 0 0 0 0 0 1 0 1 1 5 0 1 0 0 0 0 1 0]\n",
      " [0 2 0 0 0 0 0 0 1 1 1 4 0 0 0 0 0 0 0 0]\n",
      " [0 0 0 0 1 1 0 0 1 0 0 4 0 0 2 0 0 0 0 0]\n",
      " [0 2 0 1 0 0 0 0 0 0 0 5 0 0 1 0 0 0 0 0]\n",
      " [0 0 0 0 0 0 0 0 0 1 1 3 1 0 2 0 0 0 1 0]\n",
      " [0 0 0 0 0 1 0 1 0 0 1 3 1 1 0 0 0 1 0 0]\n",
      " [0 0 0 0 1 0 1 0 0 0 2 4 0 0 0 0 0 1 0 0]\n",
      " [0 0 0 0 0 0 1 0 1 0 1 5 0 0 0 0 0 1 0 0]\n",
      " [0 0 0 0 0 1 0 0 0 0 1 2 0 2 0 1 0 1 1 0]\n",
      " [0 1 1 0 0 0 0 2 0 1 0 3 0 0 0 0 1 0 0 0]\n",
      " [0 0 0 0 0 2 2 0 0 0 0 5 0 0 0 0 0 0 0 0]\n",
      " [0 0 0 0 0 0 1 0 0 0 2 5 0 1 0 0 0 0 0 0]\n",
      " [0 0 0 0 0 0 0 0 0 0 1 7 0 0 0 0 0 1 1 0]\n",
      " [0 1 0 0 0 1 0 0 0 0 0 7 0 0 0 0 0 0 1 0]\n",
      " [0 0 0 0 0 0 0 0 0 1 1 5 0 2 0 0 0 1 0 0]\n",
      " [0 1 0 0 0 0 0 0 1 2 0 4 0 0 0 0 0 1 0 0]\n",
      " [0 0 0 0 1 1 0 1 0 3 0 4 0 0 0 0 0 0 0 0]]\n"
     ]
    }
   ],
   "source": [
    "print(confusion_matrix(validation_generator.classes, y_pred))"
   ]
  },
  {
   "cell_type": "code",
   "execution_count": 55,
   "id": "c41e0e2a",
   "metadata": {},
   "outputs": [],
   "source": [
    "target_names = []\n",
    "for i in range(1, 21):\n",
    "    target_names.append('Class ' + str(i))\n"
   ]
  },
  {
   "cell_type": "code",
   "execution_count": 56,
   "id": "ae87fff4",
   "metadata": {},
   "outputs": [
    {
     "name": "stdout",
     "output_type": "stream",
     "text": [
      "              precision    recall  f1-score   support\n",
      "\n",
      "     Class 1       0.00      0.00      0.00         8\n",
      "     Class 2       0.00      0.00      0.00         9\n",
      "     Class 3       0.50      0.10      0.17        10\n",
      "     Class 4       0.00      0.00      0.00        10\n",
      "     Class 5       0.00      0.00      0.00         9\n",
      "     Class 6       0.12      0.11      0.12         9\n",
      "     Class 7       0.00      0.00      0.00         9\n",
      "     Class 8       0.00      0.00      0.00         9\n",
      "     Class 9       0.00      0.00      0.00         9\n",
      "    Class 10       0.00      0.00      0.00         9\n",
      "    Class 11       0.07      0.11      0.08         9\n",
      "    Class 12       0.02      0.22      0.04         9\n",
      "    Class 13       0.00      0.00      0.00         9\n",
      "    Class 14       0.00      0.00      0.00         9\n",
      "    Class 15       0.00      0.00      0.00         9\n",
      "    Class 16       0.00      0.00      0.00        10\n",
      "    Class 17       0.00      0.00      0.00        10\n",
      "    Class 18       0.12      0.10      0.11        10\n",
      "    Class 19       0.00      0.00      0.00         9\n",
      "    Class 20       0.00      0.00      0.00        10\n",
      "\n",
      "    accuracy                           0.03       185\n",
      "   macro avg       0.04      0.03      0.03       185\n",
      "weighted avg       0.04      0.03      0.03       185\n",
      "\n"
     ]
    }
   ],
   "source": [
    "print(classification_report(validation_generator.classes, y_pred, target_names=target_names))"
   ]
  }
 ],
 "metadata": {
  "kernelspec": {
   "display_name": "Python 3 (ipykernel)",
   "language": "python",
   "name": "python3"
  },
  "language_info": {
   "codemirror_mode": {
    "name": "ipython",
    "version": 3
   },
   "file_extension": ".py",
   "mimetype": "text/x-python",
   "name": "python",
   "nbconvert_exporter": "python",
   "pygments_lexer": "ipython3",
   "version": "3.9.12"
  }
 },
 "nbformat": 4,
 "nbformat_minor": 5
}
